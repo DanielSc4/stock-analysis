{
 "cells": [
  {
   "cell_type": "code",
   "execution_count": 1,
   "metadata": {},
   "outputs": [],
   "source": [
    "import pandas as pd\n",
    "import numpy as np\n",
    "import matplotlib.pyplot as plt\n",
    "\n",
    "from init import download_data, plot_line, plot_hist, plot_box\n",
    "from descriptive_analytics_fun import compute_CCreturns, get_AdjC"
   ]
  },
  {
   "cell_type": "code",
   "execution_count": 2,
   "metadata": {},
   "outputs": [
    {
     "name": "stdout",
     "output_type": "stream",
     "text": [
      "[] downloading AAPL\t -> Done\n",
      "[] downloading NVDA\t -> Done\n",
      "[] downloading KO\t -> Done\n",
      "[] downloading UL\t -> Done\n",
      "[] downloading BAC\t -> Done\n",
      "[] downloading AXP\t -> Done\n"
     ]
    }
   ],
   "source": [
    "# downloading data starting from 10 years ago (120 months)\n",
    "stocks = [\"AAPL\", \"NVDA\", \"KO\", \"UL\", \"BAC\", \"AXP\"]\n",
    "dataframes = download_data(stocks = stocks, start_stream = '2010-06-01')\n",
    "ccrs = {} # continuous compounds returns\n",
    "# using cc returns due to his stationary characteristic\n",
    "for df in dataframes:\n",
    "    ccrs[df] = compute_CCreturns(dataframes[df], name = df)\n",
    "    ccrs[df] = ccrs[df].to_frame()\n",
    "    ccrs[df].columns = ['Target']"
   ]
  },
  {
   "cell_type": "markdown",
   "metadata": {},
   "source": [
    "Splitto il dataset prendendo i primi 110 mesi su cui fare training e test (n e m), gli ultimi 10 mesi (l) sono dedicati alla parte di corecasting"
   ]
  },
  {
   "cell_type": "markdown",
   "metadata": {},
   "source": [
    "Creo un dataset con `N + 1` colonne -> `[lag.1, lag.2, ..., lag.N, target]`. Le prime `N` colonne sono gli `N` giorni (o il periodo temporale scelto) precedenti a target che serviranno per stimare il valore di target (N-month average measurements). Generalmente `N = 3`"
   ]
  },
  {
   "cell_type": "code",
   "execution_count": 3,
   "metadata": {},
   "outputs": [
    {
     "name": "stdout",
     "output_type": "stream",
     "text": [
      "dataset with lag columns: \n",
      "\n",
      "111 months for training and testing: \n"
     ]
    },
    {
     "data": {
      "text/html": [
       "<div>\n",
       "<style scoped>\n",
       "    .dataframe tbody tr th:only-of-type {\n",
       "        vertical-align: middle;\n",
       "    }\n",
       "\n",
       "    .dataframe tbody tr th {\n",
       "        vertical-align: top;\n",
       "    }\n",
       "\n",
       "    .dataframe thead th {\n",
       "        text-align: right;\n",
       "    }\n",
       "</style>\n",
       "<table border=\"1\" class=\"dataframe\">\n",
       "  <thead>\n",
       "    <tr style=\"text-align: right;\">\n",
       "      <th></th>\n",
       "      <th>Lag.1</th>\n",
       "      <th>Lag.2</th>\n",
       "      <th>Lag.3</th>\n",
       "      <th>Target</th>\n",
       "    </tr>\n",
       "    <tr>\n",
       "      <th>Date</th>\n",
       "      <th></th>\n",
       "      <th></th>\n",
       "      <th></th>\n",
       "      <th></th>\n",
       "    </tr>\n",
       "  </thead>\n",
       "  <tbody>\n",
       "    <tr>\n",
       "      <th>2010-10-31</th>\n",
       "      <td>0.085844</td>\n",
       "      <td>-0.014328</td>\n",
       "      <td>-0.024010</td>\n",
       "      <td>0.094308</td>\n",
       "    </tr>\n",
       "    <tr>\n",
       "      <th>2010-11-30</th>\n",
       "      <td>0.094308</td>\n",
       "      <td>0.085844</td>\n",
       "      <td>-0.014328</td>\n",
       "      <td>0.034790</td>\n",
       "    </tr>\n",
       "    <tr>\n",
       "      <th>2010-12-31</th>\n",
       "      <td>0.034790</td>\n",
       "      <td>0.094308</td>\n",
       "      <td>0.085844</td>\n",
       "      <td>0.031272</td>\n",
       "    </tr>\n",
       "    <tr>\n",
       "      <th>2011-01-31</th>\n",
       "      <td>0.031272</td>\n",
       "      <td>0.034790</td>\n",
       "      <td>0.094308</td>\n",
       "      <td>0.051216</td>\n",
       "    </tr>\n",
       "    <tr>\n",
       "      <th>2011-02-28</th>\n",
       "      <td>0.051216</td>\n",
       "      <td>0.031272</td>\n",
       "      <td>0.034790</td>\n",
       "      <td>0.037137</td>\n",
       "    </tr>\n",
       "    <tr>\n",
       "      <th>...</th>\n",
       "      <td>...</td>\n",
       "      <td>...</td>\n",
       "      <td>...</td>\n",
       "      <td>...</td>\n",
       "    </tr>\n",
       "    <tr>\n",
       "      <th>2019-08-31</th>\n",
       "      <td>0.061535</td>\n",
       "      <td>0.010144</td>\n",
       "      <td>-0.044666</td>\n",
       "      <td>0.001519</td>\n",
       "    </tr>\n",
       "    <tr>\n",
       "      <th>2019-09-30</th>\n",
       "      <td>0.001519</td>\n",
       "      <td>0.061535</td>\n",
       "      <td>0.010144</td>\n",
       "      <td>0.062681</td>\n",
       "    </tr>\n",
       "    <tr>\n",
       "      <th>2019-10-31</th>\n",
       "      <td>0.062681</td>\n",
       "      <td>0.001519</td>\n",
       "      <td>0.061535</td>\n",
       "      <td>0.076332</td>\n",
       "    </tr>\n",
       "    <tr>\n",
       "      <th>2019-11-30</th>\n",
       "      <td>0.076332</td>\n",
       "      <td>0.062681</td>\n",
       "      <td>0.001519</td>\n",
       "      <td>0.111937</td>\n",
       "    </tr>\n",
       "    <tr>\n",
       "      <th>2019-12-31</th>\n",
       "      <td>0.111937</td>\n",
       "      <td>0.076332</td>\n",
       "      <td>0.062681</td>\n",
       "      <td>0.052561</td>\n",
       "    </tr>\n",
       "  </tbody>\n",
       "</table>\n",
       "<p>111 rows × 4 columns</p>\n",
       "</div>"
      ],
      "text/plain": [
       "               Lag.1     Lag.2     Lag.3    Target\n",
       "Date                                              \n",
       "2010-10-31  0.085844 -0.014328 -0.024010  0.094308\n",
       "2010-11-30  0.094308  0.085844 -0.014328  0.034790\n",
       "2010-12-31  0.034790  0.094308  0.085844  0.031272\n",
       "2011-01-31  0.031272  0.034790  0.094308  0.051216\n",
       "2011-02-28  0.051216  0.031272  0.034790  0.037137\n",
       "...              ...       ...       ...       ...\n",
       "2019-08-31  0.061535  0.010144 -0.044666  0.001519\n",
       "2019-09-30  0.001519  0.061535  0.010144  0.062681\n",
       "2019-10-31  0.062681  0.001519  0.061535  0.076332\n",
       "2019-11-30  0.076332  0.062681  0.001519  0.111937\n",
       "2019-12-31  0.111937  0.076332  0.062681  0.052561\n",
       "\n",
       "[111 rows x 4 columns]"
      ]
     },
     "metadata": {},
     "output_type": "display_data"
    },
    {
     "name": "stdout",
     "output_type": "stream",
     "text": [
      "\n",
      "10 months for forecasting: \n"
     ]
    },
    {
     "data": {
      "text/html": [
       "<div>\n",
       "<style scoped>\n",
       "    .dataframe tbody tr th:only-of-type {\n",
       "        vertical-align: middle;\n",
       "    }\n",
       "\n",
       "    .dataframe tbody tr th {\n",
       "        vertical-align: top;\n",
       "    }\n",
       "\n",
       "    .dataframe thead th {\n",
       "        text-align: right;\n",
       "    }\n",
       "</style>\n",
       "<table border=\"1\" class=\"dataframe\">\n",
       "  <thead>\n",
       "    <tr style=\"text-align: right;\">\n",
       "      <th></th>\n",
       "      <th>Lag.1</th>\n",
       "      <th>Lag.2</th>\n",
       "      <th>Lag.3</th>\n",
       "      <th>Target</th>\n",
       "    </tr>\n",
       "    <tr>\n",
       "      <th>Date</th>\n",
       "      <th></th>\n",
       "      <th></th>\n",
       "      <th></th>\n",
       "      <th></th>\n",
       "    </tr>\n",
       "  </thead>\n",
       "  <tbody>\n",
       "    <tr>\n",
       "      <th>2020-01-31</th>\n",
       "      <td>0.052561</td>\n",
       "      <td>0.111937</td>\n",
       "      <td>0.076332</td>\n",
       "      <td>0.120431</td>\n",
       "    </tr>\n",
       "    <tr>\n",
       "      <th>2020-02-29</th>\n",
       "      <td>0.120431</td>\n",
       "      <td>0.052561</td>\n",
       "      <td>0.111937</td>\n",
       "      <td>-0.000212</td>\n",
       "    </tr>\n",
       "    <tr>\n",
       "      <th>2020-03-31</th>\n",
       "      <td>-0.000212</td>\n",
       "      <td>0.120431</td>\n",
       "      <td>0.052561</td>\n",
       "      <td>-0.170114</td>\n",
       "    </tr>\n",
       "    <tr>\n",
       "      <th>2020-04-30</th>\n",
       "      <td>-0.170114</td>\n",
       "      <td>-0.000212</td>\n",
       "      <td>0.120431</td>\n",
       "      <td>0.037183</td>\n",
       "    </tr>\n",
       "    <tr>\n",
       "      <th>2020-05-31</th>\n",
       "      <td>0.037183</td>\n",
       "      <td>-0.170114</td>\n",
       "      <td>-0.000212</td>\n",
       "      <td>0.131362</td>\n",
       "    </tr>\n",
       "    <tr>\n",
       "      <th>2020-06-30</th>\n",
       "      <td>0.131362</td>\n",
       "      <td>0.037183</td>\n",
       "      <td>-0.170114</td>\n",
       "      <td>0.110000</td>\n",
       "    </tr>\n",
       "    <tr>\n",
       "      <th>2020-07-31</th>\n",
       "      <td>0.110000</td>\n",
       "      <td>0.131362</td>\n",
       "      <td>0.037183</td>\n",
       "      <td>0.100235</td>\n",
       "    </tr>\n",
       "    <tr>\n",
       "      <th>2020-08-31</th>\n",
       "      <td>0.100235</td>\n",
       "      <td>0.110000</td>\n",
       "      <td>0.131362</td>\n",
       "      <td>0.206391</td>\n",
       "    </tr>\n",
       "    <tr>\n",
       "      <th>2020-09-30</th>\n",
       "      <td>0.206391</td>\n",
       "      <td>0.100235</td>\n",
       "      <td>0.110000</td>\n",
       "      <td>-0.018389</td>\n",
       "    </tr>\n",
       "    <tr>\n",
       "      <th>2020-10-31</th>\n",
       "      <td>-0.018389</td>\n",
       "      <td>0.206391</td>\n",
       "      <td>0.100235</td>\n",
       "      <td>0.014357</td>\n",
       "    </tr>\n",
       "  </tbody>\n",
       "</table>\n",
       "</div>"
      ],
      "text/plain": [
       "               Lag.1     Lag.2     Lag.3    Target\n",
       "Date                                              \n",
       "2020-01-31  0.052561  0.111937  0.076332  0.120431\n",
       "2020-02-29  0.120431  0.052561  0.111937 -0.000212\n",
       "2020-03-31 -0.000212  0.120431  0.052561 -0.170114\n",
       "2020-04-30 -0.170114 -0.000212  0.120431  0.037183\n",
       "2020-05-31  0.037183 -0.170114 -0.000212  0.131362\n",
       "2020-06-30  0.131362  0.037183 -0.170114  0.110000\n",
       "2020-07-31  0.110000  0.131362  0.037183  0.100235\n",
       "2020-08-31  0.100235  0.110000  0.131362  0.206391\n",
       "2020-09-30  0.206391  0.100235  0.110000 -0.018389\n",
       "2020-10-31 -0.018389  0.206391  0.100235  0.014357"
      ]
     },
     "metadata": {},
     "output_type": "display_data"
    }
   ],
   "source": [
    "# READ HERE: stock_id contains the id of the share on which the forecast is made, \n",
    "# Write the id and than run ALL the notebook (Cell -> Run All)\n",
    "stock_id = \"AAPL\"\n",
    "\n",
    "N = 3\n",
    "for i in range(N):\n",
    "    ccrs[stock_id]['Lag.' + str(i+1)] = ccrs[stock_id]['Target'].shift(i+1)\n",
    "ccrs[stock_id] = ccrs[stock_id].dropna()\n",
    "\n",
    "# reorder columns\n",
    "names_columns = list(ccrs[stock_id].columns[1:len(ccrs[stock_id].columns)])\n",
    "ccrs[stock_id] = ccrs[stock_id].reindex(np.append(names_columns, ['Target']), axis=1)\n",
    "print('dataset with lag columns: ')\n",
    "# display(ccrs[stock_id])\n",
    "\n",
    "df_lmonths = ccrs[stock_id].tail(10)\n",
    "ccrs[stock_id] = ccrs[stock_id].head(len(ccrs[stock_id].index)-10)\n",
    "\n",
    "print(f'\\n{len(ccrs[stock_id].index)} months for training and testing: ')\n",
    "display(ccrs[stock_id])\n",
    "print(f'\\n{len(df_lmonths.index)} months for forecasting: ')\n",
    "display(df_lmonths)"
   ]
  },
  {
   "cell_type": "code",
   "execution_count": 4,
   "metadata": {},
   "outputs": [],
   "source": [
    "from sklearn.model_selection import train_test_split, cross_val_score\n",
    "\n",
    "# Let's split the dataset\n",
    "data = ccrs[stock_id].iloc[:,:N]\n",
    "# data contains Lag.1, Lag.2, ..., Lag.N columns (without Target column)\n",
    "\n",
    "data_target = ccrs[stock_id].iloc[:,3]\n",
    "# data_target contains only the Target column"
   ]
  },
  {
   "cell_type": "code",
   "execution_count": 5,
   "metadata": {},
   "outputs": [],
   "source": [
    "# from sklearn\n",
    "X_train, X_test, y_train, y_test = train_test_split(data, data_target, test_size = 0.25, random_state = 42)\n",
    "# 25% of the data are used for test porpose (25% = 30 months)\n",
    "# obv, train (X and y) are used to train the model, test to test it"
   ]
  },
  {
   "cell_type": "code",
   "execution_count": 6,
   "metadata": {},
   "outputs": [
    {
     "name": "stdout",
     "output_type": "stream",
     "text": [
      "\n",
      "Best Model found:\n",
      "\tmse_svm: 0.0036729018171904547\n",
      "\tC: 100.0\n",
      "\tgamma: 0.01\n",
      "\tepsilon: 0.001\n"
     ]
    }
   ],
   "source": [
    "# support vector machine for regression (SVR)\n",
    "from sklearn.svm import SVR\n",
    "\n",
    "# Hyperparameters optimization (SVM)\n",
    "Cs = np.array([0.001, 0.01, 0.1, 1, 10, 100, 1000])\n",
    "gammas = np.array([0.001, 0.01, 0.1, 1, 10, 100, 1000])\n",
    "epsilons = np.array([0.0001, 0.001, 0.01, 0.1 ])\n",
    "\n",
    "opt_values = [np.inf, np.inf, np.inf, np.inf]\n",
    "counter = 1\n",
    "\n",
    "for a in Cs:\n",
    "    for b in gammas:\n",
    "        for c in epsilons:\n",
    "            svm = SVR(kernel = 'rbf', C = a, gamma = b, epsilon = c)\n",
    "            mse_svm = cross_val_score(svm, data, data_target, cv=10, scoring='neg_mean_squared_error')\n",
    "            mse_svm = abs(np.average(mse_svm))\n",
    "            \n",
    "            # print(\"Iteration n. \" + str(counter) + \" MSE: \" + str(mse_svm))\n",
    "            \n",
    "            if(opt_values[0] > mse_svm):\n",
    "                opt_values[0] = mse_svm # actual value of mse\n",
    "                opt_values[1] = a\n",
    "                opt_values[2] = b\n",
    "                opt_values[3] = c\n",
    "                \n",
    "            counter += 1\n",
    "\n",
    "print(\"\\nBest Model found:\")\n",
    "print(\"\\tmse_svm: \" + str(opt_values[0]))\n",
    "print(\"\\tC: \" + str(opt_values[1]))\n",
    "print(\"\\tgamma: \" + str(opt_values[2]))\n",
    "print(\"\\tepsilon: \" + str(opt_values[3]))"
   ]
  },
  {
   "cell_type": "code",
   "execution_count": 7,
   "metadata": {},
   "outputs": [
    {
     "data": {
      "text/plain": [
       "SVR(C=100.0, epsilon=0.001, gamma=0.01)"
      ]
     },
     "metadata": {},
     "output_type": "display_data"
    },
    {
     "name": "stdout",
     "output_type": "stream",
     "text": [
      "Testing\n"
     ]
    },
    {
     "data": {
      "text/plain": [
       "array([ 0.02932302,  0.04036027,  0.02712293,  0.00925841, -0.01917512,\n",
       "       -0.01014426, -0.00597188,  0.02992201,  0.02308666,  0.01155395,\n",
       "        0.02615908,  0.03241278,  0.02971001,  0.00522541,  0.05912309,\n",
       "        0.00440713,  0.01446049,  0.02093774,  0.03077306,  0.00928541,\n",
       "        0.03232863,  0.01038177, -0.00312019, -0.01459152,  0.01497593,\n",
       "       -0.01174882,  0.0255475 ,  0.01772362])"
      ]
     },
     "metadata": {},
     "output_type": "display_data"
    },
    {
     "data": {
      "text/plain": [
       "['./svm_models/svm_model_AAPL.pkl']"
      ]
     },
     "execution_count": 7,
     "metadata": {},
     "output_type": "execute_result"
    }
   ],
   "source": [
    "svm = SVR(kernel='rbf', C=opt_values[1], gamma=opt_values[2], epsilon = opt_values[3])\n",
    "display(svm)\n",
    "svm_model = svm.fit(X_train, y_train)\n",
    "pred_svm = svm_model.predict(X_test)\n",
    "print('Testing')\n",
    "display(pred_svm)\n",
    "\n",
    "import joblib\n",
    "\n",
    "# Save to file in svm_models directory in order to use it later\n",
    "joblib.dump(svm_model, \"./svm_models/svm_model_\" + stock_id + \".pkl\")"
   ]
  },
  {
   "cell_type": "code",
   "execution_count": 8,
   "metadata": {
    "scrolled": false
   },
   "outputs": [
    {
     "name": "stdout",
     "output_type": "stream",
     "text": [
      "Actual forecast on l months\n"
     ]
    },
    {
     "data": {
      "text/html": [
       "<div>\n",
       "<style scoped>\n",
       "    .dataframe tbody tr th:only-of-type {\n",
       "        vertical-align: middle;\n",
       "    }\n",
       "\n",
       "    .dataframe tbody tr th {\n",
       "        vertical-align: top;\n",
       "    }\n",
       "\n",
       "    .dataframe thead th {\n",
       "        text-align: right;\n",
       "    }\n",
       "</style>\n",
       "<table border=\"1\" class=\"dataframe\">\n",
       "  <thead>\n",
       "    <tr style=\"text-align: right;\">\n",
       "      <th></th>\n",
       "      <th>Actual values</th>\n",
       "      <th>SVM predicted values</th>\n",
       "    </tr>\n",
       "    <tr>\n",
       "      <th>Date</th>\n",
       "      <th></th>\n",
       "      <th></th>\n",
       "    </tr>\n",
       "  </thead>\n",
       "  <tbody>\n",
       "    <tr>\n",
       "      <th>2020-01-31</th>\n",
       "      <td>0.120431</td>\n",
       "      <td>0.032628</td>\n",
       "    </tr>\n",
       "    <tr>\n",
       "      <th>2020-02-29</th>\n",
       "      <td>-0.000212</td>\n",
       "      <td>0.052948</td>\n",
       "    </tr>\n",
       "    <tr>\n",
       "      <th>2020-03-31</th>\n",
       "      <td>-0.170114</td>\n",
       "      <td>0.016715</td>\n",
       "    </tr>\n",
       "    <tr>\n",
       "      <th>2020-04-30</th>\n",
       "      <td>0.037183</td>\n",
       "      <td>-0.022241</td>\n",
       "    </tr>\n",
       "    <tr>\n",
       "      <th>2020-05-31</th>\n",
       "      <td>0.131362</td>\n",
       "      <td>0.017368</td>\n",
       "    </tr>\n",
       "    <tr>\n",
       "      <th>2020-06-30</th>\n",
       "      <td>0.110000</td>\n",
       "      <td>0.027863</td>\n",
       "    </tr>\n",
       "    <tr>\n",
       "      <th>2020-07-31</th>\n",
       "      <td>0.100235</td>\n",
       "      <td>0.043910</td>\n",
       "    </tr>\n",
       "    <tr>\n",
       "      <th>2020-08-31</th>\n",
       "      <td>0.206391</td>\n",
       "      <td>0.050381</td>\n",
       "    </tr>\n",
       "    <tr>\n",
       "      <th>2020-09-30</th>\n",
       "      <td>-0.018389</td>\n",
       "      <td>0.075621</td>\n",
       "    </tr>\n",
       "    <tr>\n",
       "      <th>2020-10-31</th>\n",
       "      <td>0.014357</td>\n",
       "      <td>0.017839</td>\n",
       "    </tr>\n",
       "  </tbody>\n",
       "</table>\n",
       "</div>"
      ],
      "text/plain": [
       "            Actual values  SVM predicted values\n",
       "Date                                           \n",
       "2020-01-31       0.120431              0.032628\n",
       "2020-02-29      -0.000212              0.052948\n",
       "2020-03-31      -0.170114              0.016715\n",
       "2020-04-30       0.037183             -0.022241\n",
       "2020-05-31       0.131362              0.017368\n",
       "2020-06-30       0.110000              0.027863\n",
       "2020-07-31       0.100235              0.043910\n",
       "2020-08-31       0.206391              0.050381\n",
       "2020-09-30      -0.018389              0.075621\n",
       "2020-10-31       0.014357              0.017839"
      ]
     },
     "metadata": {},
     "output_type": "display_data"
    },
    {
     "name": "stdout",
     "output_type": "stream",
     "text": [
      "Mse between actual values and predicted ones: 0.010507430268659149\n",
      "\n",
      "Sum of actual values (returns): \t\t 0.5312432187953565\n",
      "Sum of predicted values (returns): \t 0.31303312790502513\n"
     ]
    }
   ],
   "source": [
    "print('Actual forecast on l months')\n",
    "\n",
    "# Let's split the forecast's dataset\n",
    "lmonths_data = df_lmonths.iloc[:,:N]\n",
    "# lmonths_data contains Lag.1, Lag.2, ..., Lag.N columns (without Target column)\n",
    "\n",
    "lmonths_data_target = df_lmonths.iloc[:,3]\n",
    "# lmonths_data_target contains only the Target column\n",
    "\n",
    "forecasted_values = svm_model.predict(lmonths_data)\n",
    "\n",
    "compare = pd.concat([lmonths_data_target, \n",
    "                     pd.Series(forecasted_values, index=lmonths_data_target.index)], \n",
    "                    axis = 1).sort_values(by='Date')\n",
    "compare.columns = ['Actual values', 'SVM predicted values']\n",
    "display(compare)\n",
    "\n",
    "from sklearn.metrics import mean_squared_error\n",
    "mse_svm = mean_squared_error(compare.iloc[:, 0], compare.iloc[:, 1])\n",
    "print(f'Mse between actual values and predicted ones: {mse_svm}')\n",
    "print()\n",
    "print(f'Sum of actual values (returns): \\t\\t {np.sum(compare[\"Actual values\"])}')\n",
    "print(f'Sum of predicted values (returns): \\t {np.sum(compare[\"SVM predicted values\"])}')"
   ]
  },
  {
   "cell_type": "code",
   "execution_count": 9,
   "metadata": {},
   "outputs": [
    {
     "data": {
      "image/png": "[encoded data removed]",
      "text/plain": [
       "<Figure size 864x360 with 1 Axes>"
      ]
     },
     "metadata": {
      "needs_background": "light"
     },
     "output_type": "display_data"
    }
   ],
   "source": [
    "plt.figure(figsize = (12, 5))\n",
    "plt.plot(compare.iloc[:, 0], label = 'Actual values')\n",
    "plt.plot(compare.iloc[:, 1], label = 'SVM predicted values')\n",
    "plt.title(f'{stock_id} forecasting on l months')\n",
    "plt.grid()\n",
    "plt.legend()\n",
    "# plt.savefig('img_forecast/svm/'+ str(4) + '-forecast_svm_' + stock_id +'.png', dpi=300)\n",
    "plt.show()"
   ]
  }
 ],
 "metadata": {
  "kernelspec": {
   "display_name": "Python 3",
   "language": "python",
   "name": "python3"
  },
  "language_info": {
   "codemirror_mode": {
    "name": "ipython",
    "version": 3
   },
   "file_extension": ".py",
   "mimetype": "text/x-python",
   "name": "python",
   "nbconvert_exporter": "python",
   "pygments_lexer": "ipython3",
   "version": "3.8.3"
  }
 },
 "nbformat": 4,
 "nbformat_minor": 4
}
